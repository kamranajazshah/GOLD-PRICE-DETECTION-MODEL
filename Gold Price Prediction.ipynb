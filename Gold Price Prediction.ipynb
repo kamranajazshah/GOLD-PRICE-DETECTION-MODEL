{
 "cells": [
  {
   "cell_type": "markdown",
   "id": "5a68fe14-6a59-4681-bc62-0d58f43a5557",
   "metadata": {},
   "source": [
    "<h1>importing libraries</h1>"
   ]
  },
  {
   "cell_type": "code",
   "execution_count": 3,
   "id": "241a6f43-42c4-4ba2-975e-7bf5f25b2b27",
   "metadata": {},
   "outputs": [],
   "source": [
    "import pandas as pd\n",
    "import numpy as np\n",
    "from  sklearn.preprocessing import  StandardScaler,MinMaxScaler,OneHotEncoder\n",
    "from sklearn.model_selection import train_test_split\n",
    "from matplotlib import pyplot as plt\n",
    "import seaborn as sns\n",
    "from sklearn.ensemble import RandomForestRegressor\n",
    "from sklearn.metrics import accuracy_score,r2_score,mean_absolute_error,mean_squared_error"
   ]
  },
  {
   "cell_type": "markdown",
   "id": "af33a1a5-3489-4f9c-98e5-43a77d9549d7",
   "metadata": {},
   "source": [
    "<h1>Data Acquistion</h1>"
   ]
  },
  {
   "cell_type": "code",
   "execution_count": 4,
   "id": "0c4630d4-4578-4cee-9864-e87a8036f590",
   "metadata": {},
   "outputs": [],
   "source": [
    "df=pd.read_csv(\"gld_price_data.csv\")"
   ]
  },
  {
   "cell_type": "code",
   "execution_count": 5,
   "id": "e88c068e-1649-47a5-b30c-4db331934216",
   "metadata": {},
   "outputs": [
    {
     "data": {
      "text/html": [
       "<div>\n",
       "<style scoped>\n",
       "    .dataframe tbody tr th:only-of-type {\n",
       "        vertical-align: middle;\n",
       "    }\n",
       "\n",
       "    .dataframe tbody tr th {\n",
       "        vertical-align: top;\n",
       "    }\n",
       "\n",
       "    .dataframe thead th {\n",
       "        text-align: right;\n",
       "    }\n",
       "</style>\n",
       "<table border=\"1\" class=\"dataframe\">\n",
       "  <thead>\n",
       "    <tr style=\"text-align: right;\">\n",
       "      <th></th>\n",
       "      <th>Date</th>\n",
       "      <th>SPX</th>\n",
       "      <th>GLD</th>\n",
       "      <th>USO</th>\n",
       "      <th>SLV</th>\n",
       "      <th>EUR/USD</th>\n",
       "    </tr>\n",
       "  </thead>\n",
       "  <tbody>\n",
       "    <tr>\n",
       "      <th>0</th>\n",
       "      <td>1/2/2008</td>\n",
       "      <td>1447.160034</td>\n",
       "      <td>84.860001</td>\n",
       "      <td>78.470001</td>\n",
       "      <td>15.1800</td>\n",
       "      <td>1.471692</td>\n",
       "    </tr>\n",
       "    <tr>\n",
       "      <th>1</th>\n",
       "      <td>1/3/2008</td>\n",
       "      <td>1447.160034</td>\n",
       "      <td>85.570000</td>\n",
       "      <td>78.370003</td>\n",
       "      <td>15.2850</td>\n",
       "      <td>1.474491</td>\n",
       "    </tr>\n",
       "    <tr>\n",
       "      <th>2</th>\n",
       "      <td>1/4/2008</td>\n",
       "      <td>1411.630005</td>\n",
       "      <td>85.129997</td>\n",
       "      <td>77.309998</td>\n",
       "      <td>15.1670</td>\n",
       "      <td>1.475492</td>\n",
       "    </tr>\n",
       "    <tr>\n",
       "      <th>3</th>\n",
       "      <td>1/7/2008</td>\n",
       "      <td>1416.180054</td>\n",
       "      <td>84.769997</td>\n",
       "      <td>75.500000</td>\n",
       "      <td>15.0530</td>\n",
       "      <td>1.468299</td>\n",
       "    </tr>\n",
       "    <tr>\n",
       "      <th>4</th>\n",
       "      <td>1/8/2008</td>\n",
       "      <td>1390.189941</td>\n",
       "      <td>86.779999</td>\n",
       "      <td>76.059998</td>\n",
       "      <td>15.5900</td>\n",
       "      <td>1.557099</td>\n",
       "    </tr>\n",
       "    <tr>\n",
       "      <th>...</th>\n",
       "      <td>...</td>\n",
       "      <td>...</td>\n",
       "      <td>...</td>\n",
       "      <td>...</td>\n",
       "      <td>...</td>\n",
       "      <td>...</td>\n",
       "    </tr>\n",
       "    <tr>\n",
       "      <th>2285</th>\n",
       "      <td>5/8/2018</td>\n",
       "      <td>2671.919922</td>\n",
       "      <td>124.589996</td>\n",
       "      <td>14.060000</td>\n",
       "      <td>15.5100</td>\n",
       "      <td>1.186789</td>\n",
       "    </tr>\n",
       "    <tr>\n",
       "      <th>2286</th>\n",
       "      <td>5/9/2018</td>\n",
       "      <td>2697.790039</td>\n",
       "      <td>124.330002</td>\n",
       "      <td>14.370000</td>\n",
       "      <td>15.5300</td>\n",
       "      <td>1.184722</td>\n",
       "    </tr>\n",
       "    <tr>\n",
       "      <th>2287</th>\n",
       "      <td>5/10/2018</td>\n",
       "      <td>2723.070068</td>\n",
       "      <td>125.180000</td>\n",
       "      <td>14.410000</td>\n",
       "      <td>15.7400</td>\n",
       "      <td>1.191753</td>\n",
       "    </tr>\n",
       "    <tr>\n",
       "      <th>2288</th>\n",
       "      <td>5/14/2018</td>\n",
       "      <td>2730.129883</td>\n",
       "      <td>124.489998</td>\n",
       "      <td>14.380000</td>\n",
       "      <td>15.5600</td>\n",
       "      <td>1.193118</td>\n",
       "    </tr>\n",
       "    <tr>\n",
       "      <th>2289</th>\n",
       "      <td>5/16/2018</td>\n",
       "      <td>2725.780029</td>\n",
       "      <td>122.543800</td>\n",
       "      <td>14.405800</td>\n",
       "      <td>15.4542</td>\n",
       "      <td>1.182033</td>\n",
       "    </tr>\n",
       "  </tbody>\n",
       "</table>\n",
       "<p>2290 rows × 6 columns</p>\n",
       "</div>"
      ],
      "text/plain": [
       "           Date          SPX         GLD        USO      SLV   EUR/USD\n",
       "0      1/2/2008  1447.160034   84.860001  78.470001  15.1800  1.471692\n",
       "1      1/3/2008  1447.160034   85.570000  78.370003  15.2850  1.474491\n",
       "2      1/4/2008  1411.630005   85.129997  77.309998  15.1670  1.475492\n",
       "3      1/7/2008  1416.180054   84.769997  75.500000  15.0530  1.468299\n",
       "4      1/8/2008  1390.189941   86.779999  76.059998  15.5900  1.557099\n",
       "...         ...          ...         ...        ...      ...       ...\n",
       "2285   5/8/2018  2671.919922  124.589996  14.060000  15.5100  1.186789\n",
       "2286   5/9/2018  2697.790039  124.330002  14.370000  15.5300  1.184722\n",
       "2287  5/10/2018  2723.070068  125.180000  14.410000  15.7400  1.191753\n",
       "2288  5/14/2018  2730.129883  124.489998  14.380000  15.5600  1.193118\n",
       "2289  5/16/2018  2725.780029  122.543800  14.405800  15.4542  1.182033\n",
       "\n",
       "[2290 rows x 6 columns]"
      ]
     },
     "execution_count": 5,
     "metadata": {},
     "output_type": "execute_result"
    }
   ],
   "source": [
    "df"
   ]
  },
  {
   "cell_type": "markdown",
   "id": "e4e4b5db-7648-4d9d-a70c-fcb2b4c9d8e5",
   "metadata": {},
   "source": [
    "<h2>data Exploration</h2>"
   ]
  },
  {
   "cell_type": "code",
   "execution_count": 6,
   "id": "c16d338b-06d5-48eb-8c26-43f982a2e9de",
   "metadata": {},
   "outputs": [
    {
     "data": {
      "text/html": [
       "<div>\n",
       "<style scoped>\n",
       "    .dataframe tbody tr th:only-of-type {\n",
       "        vertical-align: middle;\n",
       "    }\n",
       "\n",
       "    .dataframe tbody tr th {\n",
       "        vertical-align: top;\n",
       "    }\n",
       "\n",
       "    .dataframe thead th {\n",
       "        text-align: right;\n",
       "    }\n",
       "</style>\n",
       "<table border=\"1\" class=\"dataframe\">\n",
       "  <thead>\n",
       "    <tr style=\"text-align: right;\">\n",
       "      <th></th>\n",
       "      <th>Date</th>\n",
       "      <th>SPX</th>\n",
       "      <th>GLD</th>\n",
       "      <th>USO</th>\n",
       "      <th>SLV</th>\n",
       "      <th>EUR/USD</th>\n",
       "    </tr>\n",
       "  </thead>\n",
       "  <tbody>\n",
       "    <tr>\n",
       "      <th>0</th>\n",
       "      <td>1/2/2008</td>\n",
       "      <td>1447.160034</td>\n",
       "      <td>84.860001</td>\n",
       "      <td>78.470001</td>\n",
       "      <td>15.180</td>\n",
       "      <td>1.471692</td>\n",
       "    </tr>\n",
       "    <tr>\n",
       "      <th>1</th>\n",
       "      <td>1/3/2008</td>\n",
       "      <td>1447.160034</td>\n",
       "      <td>85.570000</td>\n",
       "      <td>78.370003</td>\n",
       "      <td>15.285</td>\n",
       "      <td>1.474491</td>\n",
       "    </tr>\n",
       "    <tr>\n",
       "      <th>2</th>\n",
       "      <td>1/4/2008</td>\n",
       "      <td>1411.630005</td>\n",
       "      <td>85.129997</td>\n",
       "      <td>77.309998</td>\n",
       "      <td>15.167</td>\n",
       "      <td>1.475492</td>\n",
       "    </tr>\n",
       "    <tr>\n",
       "      <th>3</th>\n",
       "      <td>1/7/2008</td>\n",
       "      <td>1416.180054</td>\n",
       "      <td>84.769997</td>\n",
       "      <td>75.500000</td>\n",
       "      <td>15.053</td>\n",
       "      <td>1.468299</td>\n",
       "    </tr>\n",
       "    <tr>\n",
       "      <th>4</th>\n",
       "      <td>1/8/2008</td>\n",
       "      <td>1390.189941</td>\n",
       "      <td>86.779999</td>\n",
       "      <td>76.059998</td>\n",
       "      <td>15.590</td>\n",
       "      <td>1.557099</td>\n",
       "    </tr>\n",
       "  </tbody>\n",
       "</table>\n",
       "</div>"
      ],
      "text/plain": [
       "       Date          SPX        GLD        USO     SLV   EUR/USD\n",
       "0  1/2/2008  1447.160034  84.860001  78.470001  15.180  1.471692\n",
       "1  1/3/2008  1447.160034  85.570000  78.370003  15.285  1.474491\n",
       "2  1/4/2008  1411.630005  85.129997  77.309998  15.167  1.475492\n",
       "3  1/7/2008  1416.180054  84.769997  75.500000  15.053  1.468299\n",
       "4  1/8/2008  1390.189941  86.779999  76.059998  15.590  1.557099"
      ]
     },
     "execution_count": 6,
     "metadata": {},
     "output_type": "execute_result"
    }
   ],
   "source": [
    "df.head()"
   ]
  },
  {
   "cell_type": "code",
   "execution_count": 7,
   "id": "6b4cbe0f-75b0-47c9-a08d-3bbf31234e9a",
   "metadata": {},
   "outputs": [
    {
     "data": {
      "text/html": [
       "<div>\n",
       "<style scoped>\n",
       "    .dataframe tbody tr th:only-of-type {\n",
       "        vertical-align: middle;\n",
       "    }\n",
       "\n",
       "    .dataframe tbody tr th {\n",
       "        vertical-align: top;\n",
       "    }\n",
       "\n",
       "    .dataframe thead th {\n",
       "        text-align: right;\n",
       "    }\n",
       "</style>\n",
       "<table border=\"1\" class=\"dataframe\">\n",
       "  <thead>\n",
       "    <tr style=\"text-align: right;\">\n",
       "      <th></th>\n",
       "      <th>count</th>\n",
       "      <th>mean</th>\n",
       "      <th>std</th>\n",
       "      <th>min</th>\n",
       "      <th>25%</th>\n",
       "      <th>50%</th>\n",
       "      <th>75%</th>\n",
       "      <th>max</th>\n",
       "    </tr>\n",
       "  </thead>\n",
       "  <tbody>\n",
       "    <tr>\n",
       "      <th>SPX</th>\n",
       "      <td>2290.0</td>\n",
       "      <td>1654.315776</td>\n",
       "      <td>519.111540</td>\n",
       "      <td>676.530029</td>\n",
       "      <td>1239.874969</td>\n",
       "      <td>1551.434998</td>\n",
       "      <td>2073.010070</td>\n",
       "      <td>2872.870117</td>\n",
       "    </tr>\n",
       "    <tr>\n",
       "      <th>GLD</th>\n",
       "      <td>2290.0</td>\n",
       "      <td>122.732875</td>\n",
       "      <td>23.283346</td>\n",
       "      <td>70.000000</td>\n",
       "      <td>109.725000</td>\n",
       "      <td>120.580002</td>\n",
       "      <td>132.840004</td>\n",
       "      <td>184.589996</td>\n",
       "    </tr>\n",
       "    <tr>\n",
       "      <th>USO</th>\n",
       "      <td>2290.0</td>\n",
       "      <td>31.842221</td>\n",
       "      <td>19.523517</td>\n",
       "      <td>7.960000</td>\n",
       "      <td>14.380000</td>\n",
       "      <td>33.869999</td>\n",
       "      <td>37.827501</td>\n",
       "      <td>117.480003</td>\n",
       "    </tr>\n",
       "    <tr>\n",
       "      <th>SLV</th>\n",
       "      <td>2290.0</td>\n",
       "      <td>20.084997</td>\n",
       "      <td>7.092566</td>\n",
       "      <td>8.850000</td>\n",
       "      <td>15.570000</td>\n",
       "      <td>17.268500</td>\n",
       "      <td>22.882500</td>\n",
       "      <td>47.259998</td>\n",
       "    </tr>\n",
       "    <tr>\n",
       "      <th>EUR/USD</th>\n",
       "      <td>2290.0</td>\n",
       "      <td>1.283653</td>\n",
       "      <td>0.131547</td>\n",
       "      <td>1.039047</td>\n",
       "      <td>1.171313</td>\n",
       "      <td>1.303297</td>\n",
       "      <td>1.369971</td>\n",
       "      <td>1.598798</td>\n",
       "    </tr>\n",
       "  </tbody>\n",
       "</table>\n",
       "</div>"
      ],
      "text/plain": [
       "          count         mean         std         min          25%  \\\n",
       "SPX      2290.0  1654.315776  519.111540  676.530029  1239.874969   \n",
       "GLD      2290.0   122.732875   23.283346   70.000000   109.725000   \n",
       "USO      2290.0    31.842221   19.523517    7.960000    14.380000   \n",
       "SLV      2290.0    20.084997    7.092566    8.850000    15.570000   \n",
       "EUR/USD  2290.0     1.283653    0.131547    1.039047     1.171313   \n",
       "\n",
       "                 50%          75%          max  \n",
       "SPX      1551.434998  2073.010070  2872.870117  \n",
       "GLD       120.580002   132.840004   184.589996  \n",
       "USO        33.869999    37.827501   117.480003  \n",
       "SLV        17.268500    22.882500    47.259998  \n",
       "EUR/USD     1.303297     1.369971     1.598798  "
      ]
     },
     "execution_count": 7,
     "metadata": {},
     "output_type": "execute_result"
    }
   ],
   "source": [
    "df.describe().T"
   ]
  },
  {
   "cell_type": "code",
   "execution_count": 8,
   "id": "4ec9a59d-c6a6-41a1-9ef8-65cb61757a60",
   "metadata": {},
   "outputs": [
    {
     "name": "stdout",
     "output_type": "stream",
     "text": [
      "<class 'pandas.core.frame.DataFrame'>\n",
      "RangeIndex: 2290 entries, 0 to 2289\n",
      "Data columns (total 6 columns):\n",
      " #   Column   Non-Null Count  Dtype  \n",
      "---  ------   --------------  -----  \n",
      " 0   Date     2290 non-null   object \n",
      " 1   SPX      2290 non-null   float64\n",
      " 2   GLD      2290 non-null   float64\n",
      " 3   USO      2290 non-null   float64\n",
      " 4   SLV      2290 non-null   float64\n",
      " 5   EUR/USD  2290 non-null   float64\n",
      "dtypes: float64(5), object(1)\n",
      "memory usage: 107.5+ KB\n"
     ]
    }
   ],
   "source": [
    "df.info()"
   ]
  },
  {
   "cell_type": "code",
   "execution_count": 9,
   "id": "ae6249e6-58b8-421b-a40a-f7681112b9a7",
   "metadata": {},
   "outputs": [
    {
     "data": {
      "text/plain": [
       "Date       0\n",
       "SPX        0\n",
       "GLD        0\n",
       "USO        0\n",
       "SLV        0\n",
       "EUR/USD    0\n",
       "dtype: int64"
      ]
     },
     "execution_count": 9,
     "metadata": {},
     "output_type": "execute_result"
    }
   ],
   "source": [
    "#checking missing value\n",
    "df.isnull().sum()"
   ]
  },
  {
   "cell_type": "code",
   "execution_count": 10,
   "id": "e04b9ee8-7169-422e-8e03-a8a277e1fb1f",
   "metadata": {},
   "outputs": [
    {
     "data": {
      "text/plain": [
       "(2290, 6)"
      ]
     },
     "execution_count": 10,
     "metadata": {},
     "output_type": "execute_result"
    }
   ],
   "source": [
    "df.shape"
   ]
  },
  {
   "cell_type": "code",
   "execution_count": null,
   "id": "bdd76db0-4419-42d2-aa92-7e50d8be62b3",
   "metadata": {},
   "outputs": [],
   "source": []
  },
  {
   "cell_type": "markdown",
   "id": "bb9ca118-6bb2-4509-b92f-ae9216994fba",
   "metadata": {},
   "source": [
    "<h2>\n",
    "    correlation checking\n",
    "</h2>"
   ]
  },
  {
   "cell_type": "code",
   "execution_count": 11,
   "id": "d03b863b-2b09-4501-b766-6e3ec480fc07",
   "metadata": {},
   "outputs": [],
   "source": [
    "df1=df.iloc[:,2:]"
   ]
  },
  {
   "cell_type": "code",
   "execution_count": 12,
   "id": "82f73740-7413-40a6-b4c1-37e8c289fc1d",
   "metadata": {},
   "outputs": [],
   "source": [
    " correlation=df1.corr()"
   ]
  },
  {
   "cell_type": "code",
   "execution_count": 13,
   "id": "4d060273-156d-47f1-9682-6e1665a8d166",
   "metadata": {},
   "outputs": [
    {
     "data": {
      "text/plain": [
       "<Axes: >"
      ]
     },
     "execution_count": 13,
     "metadata": {},
     "output_type": "execute_result"
    },
    {
     "data": {
      "image/png": "[encoded data removed]",
      "text/plain": [
       "<Figure size 800x800 with 2 Axes>"
      ]
     },
     "metadata": {},
     "output_type": "display_data"
    }
   ],
   "source": [
    "plt.figure(figsize=(8,8))\n",
    "sns.heatmap(correlation,cbar=True,fmt=\".1f\",annot=True,annot_kws={\"size\":8},cmap=\"Blues\")\n"
   ]
  },
  {
   "cell_type": "markdown",
   "id": "419b2741-f5d8-4424-9582-c7ec88517fb4",
   "metadata": {},
   "source": [
    "<h1>corellation of gold</h1>"
   ]
  },
  {
   "cell_type": "code",
   "execution_count": 14,
   "id": "f5cb0243-d919-4665-8ce4-1e4272bad544",
   "metadata": {},
   "outputs": [
    {
     "name": "stdout",
     "output_type": "stream",
     "text": [
      "GLD        1.000000\n",
      "USO       -0.186360\n",
      "SLV        0.866632\n",
      "EUR/USD   -0.024375\n",
      "Name: GLD, dtype: float64\n"
     ]
    }
   ],
   "source": [
    "print(correlation \n",
    "      [\"GLD\"])"
   ]
  },
  {
   "cell_type": "code",
   "execution_count": 15,
   "id": "eeb34461-a2dd-44c7-bdd8-a9411e20f23b",
   "metadata": {},
   "outputs": [],
   "source": [
    "#CHECKING DISTRIBUTION"
   ]
  },
  {
   "cell_type": "code",
   "execution_count": 16,
   "id": "e59856ff-2ff5-4777-937d-26bcdf255153",
   "metadata": {},
   "outputs": [
    {
     "name": "stderr",
     "output_type": "stream",
     "text": [
      "C:\\Users\\Hp\\AppData\\Local\\Temp\\ipykernel_7892\\3844802524.py:1: UserWarning: \n",
      "\n",
      "`distplot` is a deprecated function and will be removed in seaborn v0.14.0.\n",
      "\n",
      "Please adapt your code to use either `displot` (a figure-level function with\n",
      "similar flexibility) or `histplot` (an axes-level function for histograms).\n",
      "\n",
      "For a guide to updating your code to use the new functions, please see\n",
      "https://gist.github.com/mwaskom/de44147ed2974457ad6372750bbe5751\n",
      "\n",
      "  sns.distplot(df[\"GLD\"],color=\"green\")\n"
     ]
    },
    {
     "data": {
      "text/plain": [
       "<Axes: xlabel='GLD', ylabel='Density'>"
      ]
     },
     "execution_count": 16,
     "metadata": {},
     "output_type": "execute_result"
    },
    {
     "data": {
      "image/png": "[encoded data removed]",
      "text/plain": [
       "<Figure size 640x480 with 1 Axes>"
      ]
     },
     "metadata": {},
     "output_type": "display_data"
    }
   ],
   "source": [
    "sns.distplot(df[\"GLD\"],color=\"green\")"
   ]
  },
  {
   "cell_type": "markdown",
   "id": "6dfa258f-d6c2-4d24-8e97-a65630f6ecd7",
   "metadata": {},
   "source": [
    "<h1>OUTLIER DETECTION USING IQR</h1>"
   ]
  },
  {
   "cell_type": "code",
   "execution_count": 17,
   "id": "73417645-2b79-441a-841f-1a0a8b24f2f9",
   "metadata": {},
   "outputs": [
    {
     "data": {
      "image/png": "[encoded data removed]",
      "text/plain": [
       "<Figure size 640x480 with 1 Axes>"
      ]
     },
     "metadata": {},
     "output_type": "display_data"
    },
    {
     "data": {
      "image/png": "[encoded data removed]",
      "text/plain": [
       "<Figure size 640x480 with 1 Axes>"
      ]
     },
     "metadata": {},
     "output_type": "display_data"
    },
    {
     "data": {
      "image/png": "[encoded data removed]",
      "text/plain": [
       "<Figure size 640x480 with 1 Axes>"
      ]
     },
     "metadata": {},
     "output_type": "display_data"
    },
    {
     "data": {
      "image/png": "[encoded data removed]",
      "text/plain": [
       "<Figure size 640x480 with 1 Axes>"
      ]
     },
     "metadata": {},
     "output_type": "display_data"
    },
    {
     "data": {
      "image/png": "[encoded data removed]",
      "text/plain": [
       "<Figure size 640x480 with 1 Axes>"
      ]
     },
     "metadata": {},
     "output_type": "display_data"
    },
    {
     "data": {
      "image/png": "[encoded data removed]",
      "text/plain": [
       "<Figure size 640x480 with 1 Axes>"
      ]
     },
     "metadata": {},
     "output_type": "display_data"
    }
   ],
   "source": [
    " for i in df:\n",
    "     sns.boxplot(df[i])\n",
    "     plt.show()"
   ]
  },
  {
   "cell_type": "markdown",
   "id": "cee742dd-6bfe-44e0-a754-65c182e3478e",
   "metadata": {},
   "source": [
    "<H1>OUTLIERS IN GOLD COLUMN</H1>"
   ]
  },
  {
   "cell_type": "code",
   "execution_count": 18,
   "id": "62047a89-e60f-4822-9636-a62846b87271",
   "metadata": {},
   "outputs": [],
   "source": [
    "percentile_75=df[\"GLD\"].quantile(0.75)\n",
    "percentile_25=df[\"GLD\"].quantile(0.25)\n"
   ]
  },
  {
   "cell_type": "code",
   "execution_count": 19,
   "id": "37a405e0-519c-4883-8b58-e5e1493e43ff",
   "metadata": {},
   "outputs": [
    {
     "data": {
      "text/plain": [
       "132.84000400000002"
      ]
     },
     "execution_count": 19,
     "metadata": {},
     "output_type": "execute_result"
    }
   ],
   "source": [
    "percentile_75"
   ]
  },
  {
   "cell_type": "code",
   "execution_count": 20,
   "id": "1f3f02e8-e328-408e-8632-690508f5e32f",
   "metadata": {},
   "outputs": [
    {
     "data": {
      "text/plain": [
       "23.115003750000028"
      ]
     },
     "execution_count": 20,
     "metadata": {},
     "output_type": "execute_result"
    }
   ],
   "source": [
    "\n",
    "iqr=percentile_75-percentile_25\n",
    "iqr"
   ]
  },
  {
   "cell_type": "code",
   "execution_count": 21,
   "id": "a491c3c8-0ee0-48f3-ae33-615e5e7a1c93",
   "metadata": {},
   "outputs": [
    {
     "data": {
      "text/plain": [
       "167.51250962500006"
      ]
     },
     "execution_count": 21,
     "metadata": {},
     "output_type": "execute_result"
    }
   ],
   "source": [
    "\n",
    "upper_limit=percentile_75+1.5*iqr\n",
    "lower_limit=percentile_25-1.5*iqr\n",
    "upper_limit"
   ]
  },
  {
   "cell_type": "code",
   "execution_count": 22,
   "id": "a1753873-eef5-466f-b042-309708b5448b",
   "metadata": {},
   "outputs": [
    {
     "data": {
      "text/html": [
       "<div>\n",
       "<style scoped>\n",
       "    .dataframe tbody tr th:only-of-type {\n",
       "        vertical-align: middle;\n",
       "    }\n",
       "\n",
       "    .dataframe tbody tr th {\n",
       "        vertical-align: top;\n",
       "    }\n",
       "\n",
       "    .dataframe thead th {\n",
       "        text-align: right;\n",
       "    }\n",
       "</style>\n",
       "<table border=\"1\" class=\"dataframe\">\n",
       "  <thead>\n",
       "    <tr style=\"text-align: right;\">\n",
       "      <th></th>\n",
       "      <th>Date</th>\n",
       "      <th>SPX</th>\n",
       "      <th>GLD</th>\n",
       "      <th>USO</th>\n",
       "      <th>SLV</th>\n",
       "      <th>EUR/USD</th>\n",
       "    </tr>\n",
       "  </thead>\n",
       "  <tbody>\n",
       "    <tr>\n",
       "      <th>788</th>\n",
       "      <td>8/9/2011</td>\n",
       "      <td>1172.530029</td>\n",
       "      <td>168.610001</td>\n",
       "      <td>31.620001</td>\n",
       "      <td>36.320000</td>\n",
       "      <td>1.438311</td>\n",
       "    </tr>\n",
       "    <tr>\n",
       "      <th>789</th>\n",
       "      <td>8/10/2011</td>\n",
       "      <td>1120.760010</td>\n",
       "      <td>174.580002</td>\n",
       "      <td>31.780001</td>\n",
       "      <td>38.439999</td>\n",
       "      <td>1.412469</td>\n",
       "    </tr>\n",
       "    <tr>\n",
       "      <th>790</th>\n",
       "      <td>8/11/2011</td>\n",
       "      <td>1172.640015</td>\n",
       "      <td>170.750000</td>\n",
       "      <td>33.299999</td>\n",
       "      <td>37.799999</td>\n",
       "      <td>1.422637</td>\n",
       "    </tr>\n",
       "    <tr>\n",
       "      <th>791</th>\n",
       "      <td>8/15/2011</td>\n",
       "      <td>1204.489990</td>\n",
       "      <td>171.800003</td>\n",
       "      <td>34.220001</td>\n",
       "      <td>38.669998</td>\n",
       "      <td>1.443835</td>\n",
       "    </tr>\n",
       "    <tr>\n",
       "      <th>792</th>\n",
       "      <td>8/16/2011</td>\n",
       "      <td>1192.760010</td>\n",
       "      <td>173.919998</td>\n",
       "      <td>33.830002</td>\n",
       "      <td>39.029999</td>\n",
       "      <td>1.439802</td>\n",
       "    </tr>\n",
       "    <tr>\n",
       "      <th>...</th>\n",
       "      <td>...</td>\n",
       "      <td>...</td>\n",
       "      <td>...</td>\n",
       "      <td>...</td>\n",
       "      <td>...</td>\n",
       "      <td>...</td>\n",
       "    </tr>\n",
       "    <tr>\n",
       "      <th>1068</th>\n",
       "      <td>11/19/2012</td>\n",
       "      <td>1386.890015</td>\n",
       "      <td>167.869995</td>\n",
       "      <td>32.669998</td>\n",
       "      <td>32.049999</td>\n",
       "      <td>1.275950</td>\n",
       "    </tr>\n",
       "    <tr>\n",
       "      <th>1070</th>\n",
       "      <td>11/21/2012</td>\n",
       "      <td>1391.030029</td>\n",
       "      <td>167.559998</td>\n",
       "      <td>32.119999</td>\n",
       "      <td>32.290001</td>\n",
       "      <td>1.281443</td>\n",
       "    </tr>\n",
       "    <tr>\n",
       "      <th>1071</th>\n",
       "      <td>11/23/2012</td>\n",
       "      <td>1409.150024</td>\n",
       "      <td>169.610001</td>\n",
       "      <td>32.320000</td>\n",
       "      <td>32.980000</td>\n",
       "      <td>1.287515</td>\n",
       "    </tr>\n",
       "    <tr>\n",
       "      <th>1072</th>\n",
       "      <td>11/26/2012</td>\n",
       "      <td>1406.290039</td>\n",
       "      <td>169.429993</td>\n",
       "      <td>32.189999</td>\n",
       "      <td>33.020000</td>\n",
       "      <td>1.296596</td>\n",
       "    </tr>\n",
       "    <tr>\n",
       "      <th>1073</th>\n",
       "      <td>11/27/2012</td>\n",
       "      <td>1398.939941</td>\n",
       "      <td>168.710007</td>\n",
       "      <td>31.980000</td>\n",
       "      <td>32.930000</td>\n",
       "      <td>1.298701</td>\n",
       "    </tr>\n",
       "  </tbody>\n",
       "</table>\n",
       "<p>92 rows × 6 columns</p>\n",
       "</div>"
      ],
      "text/plain": [
       "            Date          SPX         GLD        USO        SLV   EUR/USD\n",
       "788     8/9/2011  1172.530029  168.610001  31.620001  36.320000  1.438311\n",
       "789    8/10/2011  1120.760010  174.580002  31.780001  38.439999  1.412469\n",
       "790    8/11/2011  1172.640015  170.750000  33.299999  37.799999  1.422637\n",
       "791    8/15/2011  1204.489990  171.800003  34.220001  38.669998  1.443835\n",
       "792    8/16/2011  1192.760010  173.919998  33.830002  39.029999  1.439802\n",
       "...          ...          ...         ...        ...        ...       ...\n",
       "1068  11/19/2012  1386.890015  167.869995  32.669998  32.049999  1.275950\n",
       "1070  11/21/2012  1391.030029  167.559998  32.119999  32.290001  1.281443\n",
       "1071  11/23/2012  1409.150024  169.610001  32.320000  32.980000  1.287515\n",
       "1072  11/26/2012  1406.290039  169.429993  32.189999  33.020000  1.296596\n",
       "1073  11/27/2012  1398.939941  168.710007  31.980000  32.930000  1.298701\n",
       "\n",
       "[92 rows x 6 columns]"
      ]
     },
     "execution_count": 22,
     "metadata": {},
     "output_type": "execute_result"
    }
   ],
   "source": [
    "df[df[\"GLD\"]>upper_limit]"
   ]
  },
  {
   "cell_type": "code",
   "execution_count": 23,
   "id": "db5ac9d1-0227-4cb3-bda8-38ad1faa0fdc",
   "metadata": {},
   "outputs": [
    {
     "data": {
      "text/html": [
       "<div>\n",
       "<style scoped>\n",
       "    .dataframe tbody tr th:only-of-type {\n",
       "        vertical-align: middle;\n",
       "    }\n",
       "\n",
       "    .dataframe tbody tr th {\n",
       "        vertical-align: top;\n",
       "    }\n",
       "\n",
       "    .dataframe thead th {\n",
       "        text-align: right;\n",
       "    }\n",
       "</style>\n",
       "<table border=\"1\" class=\"dataframe\">\n",
       "  <thead>\n",
       "    <tr style=\"text-align: right;\">\n",
       "      <th></th>\n",
       "      <th>Date</th>\n",
       "      <th>SPX</th>\n",
       "      <th>GLD</th>\n",
       "      <th>USO</th>\n",
       "      <th>SLV</th>\n",
       "      <th>EUR/USD</th>\n",
       "    </tr>\n",
       "  </thead>\n",
       "  <tbody>\n",
       "    <tr>\n",
       "      <th>137</th>\n",
       "      <td>9/10/2008</td>\n",
       "      <td>1232.040039</td>\n",
       "      <td>74.220001</td>\n",
       "      <td>82.970001</td>\n",
       "      <td>10.60</td>\n",
       "      <td>1.399600</td>\n",
       "    </tr>\n",
       "    <tr>\n",
       "      <th>138</th>\n",
       "      <td>9/11/2008</td>\n",
       "      <td>1249.050049</td>\n",
       "      <td>73.080002</td>\n",
       "      <td>81.489998</td>\n",
       "      <td>10.32</td>\n",
       "      <td>1.423994</td>\n",
       "    </tr>\n",
       "    <tr>\n",
       "      <th>161</th>\n",
       "      <td>10/22/2008</td>\n",
       "      <td>896.780029</td>\n",
       "      <td>71.709999</td>\n",
       "      <td>54.930000</td>\n",
       "      <td>9.45</td>\n",
       "      <td>1.294498</td>\n",
       "    </tr>\n",
       "    <tr>\n",
       "      <th>162</th>\n",
       "      <td>10/23/2008</td>\n",
       "      <td>908.109985</td>\n",
       "      <td>70.650002</td>\n",
       "      <td>56.599998</td>\n",
       "      <td>9.38</td>\n",
       "      <td>1.262993</td>\n",
       "    </tr>\n",
       "    <tr>\n",
       "      <th>163</th>\n",
       "      <td>10/27/2008</td>\n",
       "      <td>848.919983</td>\n",
       "      <td>72.180000</td>\n",
       "      <td>50.849998</td>\n",
       "      <td>8.85</td>\n",
       "      <td>1.246463</td>\n",
       "    </tr>\n",
       "    <tr>\n",
       "      <th>164</th>\n",
       "      <td>10/28/2008</td>\n",
       "      <td>940.510010</td>\n",
       "      <td>73.790001</td>\n",
       "      <td>53.220001</td>\n",
       "      <td>9.05</td>\n",
       "      <td>1.280902</td>\n",
       "    </tr>\n",
       "    <tr>\n",
       "      <th>165</th>\n",
       "      <td>10/29/2008</td>\n",
       "      <td>930.090027</td>\n",
       "      <td>74.000000</td>\n",
       "      <td>55.680000</td>\n",
       "      <td>9.67</td>\n",
       "      <td>1.295924</td>\n",
       "    </tr>\n",
       "    <tr>\n",
       "      <th>166</th>\n",
       "      <td>10/30/2008</td>\n",
       "      <td>954.090027</td>\n",
       "      <td>72.709999</td>\n",
       "      <td>54.000000</td>\n",
       "      <td>9.68</td>\n",
       "      <td>1.286803</td>\n",
       "    </tr>\n",
       "    <tr>\n",
       "      <th>167</th>\n",
       "      <td>10/31/2008</td>\n",
       "      <td>968.750000</td>\n",
       "      <td>71.339996</td>\n",
       "      <td>55.590000</td>\n",
       "      <td>9.58</td>\n",
       "      <td>1.270196</td>\n",
       "    </tr>\n",
       "    <tr>\n",
       "      <th>168</th>\n",
       "      <td>11/3/2008</td>\n",
       "      <td>966.299988</td>\n",
       "      <td>71.099998</td>\n",
       "      <td>52.490002</td>\n",
       "      <td>9.62</td>\n",
       "      <td>1.261798</td>\n",
       "    </tr>\n",
       "    <tr>\n",
       "      <th>170</th>\n",
       "      <td>11/5/2008</td>\n",
       "      <td>952.770020</td>\n",
       "      <td>72.800003</td>\n",
       "      <td>53.840000</td>\n",
       "      <td>10.21</td>\n",
       "      <td>1.291806</td>\n",
       "    </tr>\n",
       "    <tr>\n",
       "      <th>171</th>\n",
       "      <td>11/6/2008</td>\n",
       "      <td>904.880005</td>\n",
       "      <td>72.220001</td>\n",
       "      <td>50.150002</td>\n",
       "      <td>9.90</td>\n",
       "      <td>1.269503</td>\n",
       "    </tr>\n",
       "    <tr>\n",
       "      <th>172</th>\n",
       "      <td>11/7/2008</td>\n",
       "      <td>930.989990</td>\n",
       "      <td>72.500000</td>\n",
       "      <td>50.040001</td>\n",
       "      <td>9.94</td>\n",
       "      <td>1.271407</td>\n",
       "    </tr>\n",
       "    <tr>\n",
       "      <th>173</th>\n",
       "      <td>11/10/2008</td>\n",
       "      <td>919.210022</td>\n",
       "      <td>73.580002</td>\n",
       "      <td>51.230000</td>\n",
       "      <td>10.06</td>\n",
       "      <td>1.274795</td>\n",
       "    </tr>\n",
       "    <tr>\n",
       "      <th>174</th>\n",
       "      <td>11/11/2008</td>\n",
       "      <td>898.950012</td>\n",
       "      <td>72.050003</td>\n",
       "      <td>48.110001</td>\n",
       "      <td>9.64</td>\n",
       "      <td>1.251596</td>\n",
       "    </tr>\n",
       "    <tr>\n",
       "      <th>175</th>\n",
       "      <td>11/12/2008</td>\n",
       "      <td>852.299988</td>\n",
       "      <td>70.000000</td>\n",
       "      <td>45.750000</td>\n",
       "      <td>9.17</td>\n",
       "      <td>1.245904</td>\n",
       "    </tr>\n",
       "    <tr>\n",
       "      <th>176</th>\n",
       "      <td>11/13/2008</td>\n",
       "      <td>911.289978</td>\n",
       "      <td>72.150002</td>\n",
       "      <td>49.000000</td>\n",
       "      <td>9.30</td>\n",
       "      <td>1.278871</td>\n",
       "    </tr>\n",
       "    <tr>\n",
       "      <th>177</th>\n",
       "      <td>11/14/2008</td>\n",
       "      <td>873.289978</td>\n",
       "      <td>73.300003</td>\n",
       "      <td>46.180000</td>\n",
       "      <td>9.36</td>\n",
       "      <td>1.259700</td>\n",
       "    </tr>\n",
       "    <tr>\n",
       "      <th>178</th>\n",
       "      <td>11/17/2008</td>\n",
       "      <td>850.750000</td>\n",
       "      <td>72.650002</td>\n",
       "      <td>45.160000</td>\n",
       "      <td>9.18</td>\n",
       "      <td>1.264398</td>\n",
       "    </tr>\n",
       "    <tr>\n",
       "      <th>179</th>\n",
       "      <td>11/18/2008</td>\n",
       "      <td>859.119995</td>\n",
       "      <td>72.510002</td>\n",
       "      <td>44.770000</td>\n",
       "      <td>9.48</td>\n",
       "      <td>1.263695</td>\n",
       "    </tr>\n",
       "    <tr>\n",
       "      <th>180</th>\n",
       "      <td>11/19/2008</td>\n",
       "      <td>806.580017</td>\n",
       "      <td>72.260002</td>\n",
       "      <td>43.259998</td>\n",
       "      <td>9.10</td>\n",
       "      <td>1.250531</td>\n",
       "    </tr>\n",
       "    <tr>\n",
       "      <th>181</th>\n",
       "      <td>11/20/2008</td>\n",
       "      <td>752.440002</td>\n",
       "      <td>73.449997</td>\n",
       "      <td>39.549999</td>\n",
       "      <td>8.86</td>\n",
       "      <td>1.243905</td>\n",
       "    </tr>\n",
       "    <tr>\n",
       "      <th>191</th>\n",
       "      <td>12/5/2008</td>\n",
       "      <td>876.070007</td>\n",
       "      <td>74.519997</td>\n",
       "      <td>34.250000</td>\n",
       "      <td>9.40</td>\n",
       "      <td>1.271698</td>\n",
       "    </tr>\n",
       "  </tbody>\n",
       "</table>\n",
       "</div>"
      ],
      "text/plain": [
       "           Date          SPX        GLD        USO    SLV   EUR/USD\n",
       "137   9/10/2008  1232.040039  74.220001  82.970001  10.60  1.399600\n",
       "138   9/11/2008  1249.050049  73.080002  81.489998  10.32  1.423994\n",
       "161  10/22/2008   896.780029  71.709999  54.930000   9.45  1.294498\n",
       "162  10/23/2008   908.109985  70.650002  56.599998   9.38  1.262993\n",
       "163  10/27/2008   848.919983  72.180000  50.849998   8.85  1.246463\n",
       "164  10/28/2008   940.510010  73.790001  53.220001   9.05  1.280902\n",
       "165  10/29/2008   930.090027  74.000000  55.680000   9.67  1.295924\n",
       "166  10/30/2008   954.090027  72.709999  54.000000   9.68  1.286803\n",
       "167  10/31/2008   968.750000  71.339996  55.590000   9.58  1.270196\n",
       "168   11/3/2008   966.299988  71.099998  52.490002   9.62  1.261798\n",
       "170   11/5/2008   952.770020  72.800003  53.840000  10.21  1.291806\n",
       "171   11/6/2008   904.880005  72.220001  50.150002   9.90  1.269503\n",
       "172   11/7/2008   930.989990  72.500000  50.040001   9.94  1.271407\n",
       "173  11/10/2008   919.210022  73.580002  51.230000  10.06  1.274795\n",
       "174  11/11/2008   898.950012  72.050003  48.110001   9.64  1.251596\n",
       "175  11/12/2008   852.299988  70.000000  45.750000   9.17  1.245904\n",
       "176  11/13/2008   911.289978  72.150002  49.000000   9.30  1.278871\n",
       "177  11/14/2008   873.289978  73.300003  46.180000   9.36  1.259700\n",
       "178  11/17/2008   850.750000  72.650002  45.160000   9.18  1.264398\n",
       "179  11/18/2008   859.119995  72.510002  44.770000   9.48  1.263695\n",
       "180  11/19/2008   806.580017  72.260002  43.259998   9.10  1.250531\n",
       "181  11/20/2008   752.440002  73.449997  39.549999   8.86  1.243905\n",
       "191   12/5/2008   876.070007  74.519997  34.250000   9.40  1.271698"
      ]
     },
     "execution_count": 23,
     "metadata": {},
     "output_type": "execute_result"
    }
   ],
   "source": [
    "df[df[\"GLD\"]<lower_limit]"
   ]
  },
  {
   "cell_type": "code",
   "execution_count": 24,
   "id": "3c8eb205-e90c-4594-b58b-419c0ca34798",
   "metadata": {},
   "outputs": [
    {
     "data": {
      "text/plain": [
       "(2198, 6)"
      ]
     },
     "execution_count": 24,
     "metadata": {},
     "output_type": "execute_result"
    }
   ],
   "source": [
    "new_df=df[df[\"GLD\"]<upper_limit]\n",
    "new_df.shape"
   ]
  },
  {
   "cell_type": "code",
   "execution_count": 30,
   "id": "bcec3b83-15f7-4090-b7e1-cf3c57a743e6",
   "metadata": {},
   "outputs": [
    {
     "data": {
      "text/html": [
       "<div>\n",
       "<style scoped>\n",
       "    .dataframe tbody tr th:only-of-type {\n",
       "        vertical-align: middle;\n",
       "    }\n",
       "\n",
       "    .dataframe tbody tr th {\n",
       "        vertical-align: top;\n",
       "    }\n",
       "\n",
       "    .dataframe thead th {\n",
       "        text-align: right;\n",
       "    }\n",
       "</style>\n",
       "<table border=\"1\" class=\"dataframe\">\n",
       "  <thead>\n",
       "    <tr style=\"text-align: right;\">\n",
       "      <th></th>\n",
       "      <th>Date</th>\n",
       "      <th>SPX</th>\n",
       "      <th>GLD</th>\n",
       "      <th>USO</th>\n",
       "      <th>SLV</th>\n",
       "      <th>EUR/USD</th>\n",
       "    </tr>\n",
       "  </thead>\n",
       "  <tbody>\n",
       "  </tbody>\n",
       "</table>\n",
       "</div>"
      ],
      "text/plain": [
       "Empty DataFrame\n",
       "Columns: [Date, SPX, GLD, USO, SLV, EUR/USD]\n",
       "Index: []"
      ]
     },
     "execution_count": 30,
     "metadata": {},
     "output_type": "execute_result"
    }
   ],
   "source": [
    "df[df[\"GLD\"]<lower_limit]"
   ]
  },
  {
   "cell_type": "code",
   "execution_count": 32,
   "id": "7236fda4-1a0f-4924-876e-1156d1493753",
   "metadata": {},
   "outputs": [
    {
     "data": {
      "image/png": "[encoded data removed]",
      "text/plain": [
       "<Figure size 640x480 with 1 Axes>"
      ]
     },
     "metadata": {},
     "output_type": "display_data"
    },
    {
     "data": {
      "image/png": "[encoded data removed]",
      "text/plain": [
       "<Figure size 640x480 with 1 Axes>"
      ]
     },
     "metadata": {},
     "output_type": "display_data"
    },
    {
     "data": {
      "image/png": "[encoded data removed]",
      "text/plain": [
       "<Figure size 640x480 with 1 Axes>"
      ]
     },
     "metadata": {},
     "output_type": "display_data"
    },
    {
     "data": {
      "image/png": "[encoded data removed]",
      "text/plain": [
       "<Figure size 640x480 with 1 Axes>"
      ]
     },
     "metadata": {},
     "output_type": "display_data"
    },
    {
     "data": {
      "image/png": "[encoded data removed]",
      "text/plain": [
       "<Figure size 640x480 with 1 Axes>"
      ]
     },
     "metadata": {},
     "output_type": "display_data"
    },
    {
     "data": {
      "image/png": "[encoded data removed]",
      "text/plain": [
       "<Figure size 640x480 with 1 Axes>"
      ]
     },
     "metadata": {},
     "output_type": "display_data"
    }
   ],
   "source": [
    "for i in new_df:\n",
    "     sns.boxplot(new_df[i])\n",
    "     plt.show()"
   ]
  },
  {
   "cell_type": "code",
   "execution_count": 33,
   "id": "abc43e39-a36d-489d-b450-e59bc382e1b8",
   "metadata": {},
   "outputs": [
    {
     "name": "stderr",
     "output_type": "stream",
     "text": [
      "C:\\Users\\Hp\\AppData\\Local\\Temp\\ipykernel_7892\\3828559799.py:1: UserWarning: \n",
      "\n",
      "`distplot` is a deprecated function and will be removed in seaborn v0.14.0.\n",
      "\n",
      "Please adapt your code to use either `displot` (a figure-level function with\n",
      "similar flexibility) or `histplot` (an axes-level function for histograms).\n",
      "\n",
      "For a guide to updating your code to use the new functions, please see\n",
      "https://gist.github.com/mwaskom/de44147ed2974457ad6372750bbe5751\n",
      "\n",
      "  sns.distplot(df[\"GLD\"])\n"
     ]
    },
    {
     "data": {
      "image/png": "[encoded data removed]",
      "text/plain": [
       "<Figure size 640x480 with 1 Axes>"
      ]
     },
     "metadata": {},
     "output_type": "display_data"
    }
   ],
   "source": [
    "sns.distplot(df[\"GLD\"])\n",
    "plt.show()"
   ]
  },
  {
   "cell_type": "code",
   "execution_count": 34,
   "id": "f6eefa25-ffd4-4575-8eca-be9af9727a19",
   "metadata": {},
   "outputs": [
    {
     "name": "stderr",
     "output_type": "stream",
     "text": [
      "C:\\Users\\Hp\\AppData\\Local\\Temp\\ipykernel_7892\\3474925547.py:1: UserWarning: \n",
      "\n",
      "`distplot` is a deprecated function and will be removed in seaborn v0.14.0.\n",
      "\n",
      "Please adapt your code to use either `displot` (a figure-level function with\n",
      "similar flexibility) or `histplot` (an axes-level function for histograms).\n",
      "\n",
      "For a guide to updating your code to use the new functions, please see\n",
      "https://gist.github.com/mwaskom/de44147ed2974457ad6372750bbe5751\n",
      "\n",
      "  sns.distplot(new_df[\"GLD\"])\n"
     ]
    },
    {
     "data": {
      "image/png": "[encoded data removed]",
      "text/plain": [
       "<Figure size 640x480 with 1 Axes>"
      ]
     },
     "metadata": {},
     "output_type": "display_data"
    }
   ],
   "source": [
    "sns.distplot(new_df[\"GLD\"])\n",
    "plt.show()"
   ]
  },
  {
   "cell_type": "code",
   "execution_count": 35,
   "id": "7dbde808-bf06-4b60-b9e7-dd7fe4bb3c8b",
   "metadata": {},
   "outputs": [],
   "source": [
    "#sipltting the data\n"
   ]
  },
  {
   "cell_type": "code",
   "execution_count": 36,
   "id": "2dace840-9397-4dfc-a92b-ecf7f4831f2c",
   "metadata": {},
   "outputs": [],
   "source": [
    "X=new_df.drop(columns=[\"GLD\",\"Date\"],axis=1)\n",
    "y=new_df[\"GLD\"]\n"
   ]
  },
  {
   "cell_type": "code",
   "execution_count": 37,
   "id": "23f96be4-b04b-497f-b93c-9760c3267a25",
   "metadata": {},
   "outputs": [],
   "source": [
    "X_train,X_test,y_train,y_test=train_test_split(X,y,random_state=42,test_size=0.2)"
   ]
  },
  {
   "cell_type": "code",
   "execution_count": 38,
   "id": "98d551e7-f1a2-49ba-8b88-74d8c393eb25",
   "metadata": {},
   "outputs": [
    {
     "data": {
      "text/plain": [
       "(1738, 4)"
      ]
     },
     "execution_count": 38,
     "metadata": {},
     "output_type": "execute_result"
    }
   ],
   "source": [
    "X_train.shape"
   ]
  },
  {
   "cell_type": "code",
   "execution_count": 39,
   "id": "831adabc-a872-4ab9-a7ad-9542c3638ff5",
   "metadata": {},
   "outputs": [
    {
     "data": {
      "text/plain": [
       "(435, 4)"
      ]
     },
     "execution_count": 39,
     "metadata": {},
     "output_type": "execute_result"
    }
   ],
   "source": [
    "X_test.shape"
   ]
  },
  {
   "cell_type": "code",
   "execution_count": 40,
   "id": "eb9f1891-7632-43a8-8ef6-3e38a0978139",
   "metadata": {},
   "outputs": [],
   "source": [
    "reg=RandomForestRegressor()"
   ]
  },
  {
   "cell_type": "code",
   "execution_count": 41,
   "id": "b2c8dbe4-aea4-43cc-930e-86939abc088a",
   "metadata": {},
   "outputs": [
    {
     "data": {
      "text/html": [
       "<style>#sk-container-id-1 {color: black;}#sk-container-id-1 pre{padding: 0;}#sk-container-id-1 div.sk-toggleable {background-color: white;}#sk-container-id-1 label.sk-toggleable__label {cursor: pointer;display: block;width: 100%;margin-bottom: 0;padding: 0.3em;box-sizing: border-box;text-align: center;}#sk-container-id-1 label.sk-toggleable__label-arrow:before {content: \"▸\";float: left;margin-right: 0.25em;color: #696969;}#sk-container-id-1 label.sk-toggleable__label-arrow:hover:before {color: black;}#sk-container-id-1 div.sk-estimator:hover label.sk-toggleable__label-arrow:before {color: black;}#sk-container-id-1 div.sk-toggleable__content {max-height: 0;max-width: 0;overflow: hidden;text-align: left;background-color: #f0f8ff;}#sk-container-id-1 div.sk-toggleable__content pre {margin: 0.2em;color: black;border-radius: 0.25em;background-color: #f0f8ff;}#sk-container-id-1 input.sk-toggleable__control:checked~div.sk-toggleable__content {max-height: 200px;max-width: 100%;overflow: auto;}#sk-container-id-1 input.sk-toggleable__control:checked~label.sk-toggleable__label-arrow:before {content: \"▾\";}#sk-container-id-1 div.sk-estimator input.sk-toggleable__control:checked~label.sk-toggleable__label {background-color: #d4ebff;}#sk-container-id-1 div.sk-label input.sk-toggleable__control:checked~label.sk-toggleable__label {background-color: #d4ebff;}#sk-container-id-1 input.sk-hidden--visually {border: 0;clip: rect(1px 1px 1px 1px);clip: rect(1px, 1px, 1px, 1px);height: 1px;margin: -1px;overflow: hidden;padding: 0;position: absolute;width: 1px;}#sk-container-id-1 div.sk-estimator {font-family: monospace;background-color: #f0f8ff;border: 1px dotted black;border-radius: 0.25em;box-sizing: border-box;margin-bottom: 0.5em;}#sk-container-id-1 div.sk-estimator:hover {background-color: #d4ebff;}#sk-container-id-1 div.sk-parallel-item::after {content: \"\";width: 100%;border-bottom: 1px solid gray;flex-grow: 1;}#sk-container-id-1 div.sk-label:hover label.sk-toggleable__label {background-color: #d4ebff;}#sk-container-id-1 div.sk-serial::before {content: \"\";position: absolute;border-left: 1px solid gray;box-sizing: border-box;top: 0;bottom: 0;left: 50%;z-index: 0;}#sk-container-id-1 div.sk-serial {display: flex;flex-direction: column;align-items: center;background-color: white;padding-right: 0.2em;padding-left: 0.2em;position: relative;}#sk-container-id-1 div.sk-item {position: relative;z-index: 1;}#sk-container-id-1 div.sk-parallel {display: flex;align-items: stretch;justify-content: center;background-color: white;position: relative;}#sk-container-id-1 div.sk-item::before, #sk-container-id-1 div.sk-parallel-item::before {content: \"\";position: absolute;border-left: 1px solid gray;box-sizing: border-box;top: 0;bottom: 0;left: 50%;z-index: -1;}#sk-container-id-1 div.sk-parallel-item {display: flex;flex-direction: column;z-index: 1;position: relative;background-color: white;}#sk-container-id-1 div.sk-parallel-item:first-child::after {align-self: flex-end;width: 50%;}#sk-container-id-1 div.sk-parallel-item:last-child::after {align-self: flex-start;width: 50%;}#sk-container-id-1 div.sk-parallel-item:only-child::after {width: 0;}#sk-container-id-1 div.sk-dashed-wrapped {border: 1px dashed gray;margin: 0 0.4em 0.5em 0.4em;box-sizing: border-box;padding-bottom: 0.4em;background-color: white;}#sk-container-id-1 div.sk-label label {font-family: monospace;font-weight: bold;display: inline-block;line-height: 1.2em;}#sk-container-id-1 div.sk-label-container {text-align: center;}#sk-container-id-1 div.sk-container {/* jupyter's `normalize.less` sets `[hidden] { display: none; }` but bootstrap.min.css set `[hidden] { display: none !important; }` so we also need the `!important` here to be able to override the default hidden behavior on the sphinx rendered scikit-learn.org. See: https://github.com/scikit-learn/scikit-learn/issues/21755 */display: inline-block !important;position: relative;}#sk-container-id-1 div.sk-text-repr-fallback {display: none;}</style><div id=\"sk-container-id-1\" class=\"sk-top-container\"><div class=\"sk-text-repr-fallback\"><pre>RandomForestRegressor()</pre><b>In a Jupyter environment, please rerun this cell to show the HTML representation or trust the notebook. <br />On GitHub, the HTML representation is unable to render, please try loading this page with nbviewer.org.</b></div><div class=\"sk-container\" hidden><div class=\"sk-item\"><div class=\"sk-estimator sk-toggleable\"><input class=\"sk-toggleable__control sk-hidden--visually\" id=\"sk-estimator-id-1\" type=\"checkbox\" checked><label for=\"sk-estimator-id-1\" class=\"sk-toggleable__label sk-toggleable__label-arrow\">RandomForestRegressor</label><div class=\"sk-toggleable__content\"><pre>RandomForestRegressor()</pre></div></div></div></div></div>"
      ],
      "text/plain": [
       "RandomForestRegressor()"
      ]
     },
     "execution_count": 41,
     "metadata": {},
     "output_type": "execute_result"
    }
   ],
   "source": [
    "reg.fit(X_train,y_train)"
   ]
  },
  {
   "cell_type": "markdown",
   "id": "8cf05fdb-1f10-49d4-a4b2-12d8b71bc24b",
   "metadata": {},
   "source": [
    "model evaluation"
   ]
  },
  {
   "cell_type": "code",
   "execution_count": 42,
   "id": "12e8b63e-814d-46b3-8f69-cdcd3fd94803",
   "metadata": {},
   "outputs": [],
   "source": [
    "y_pred=reg.predict(X_test)"
   ]
  },
  {
   "cell_type": "markdown",
   "id": "0140b809-de7d-4414-983d-590747f354ed",
   "metadata": {},
   "source": [
    "<H1>Checking metrices</H1>"
   ]
  },
  {
   "cell_type": "code",
   "execution_count": 43,
   "id": "4990d9d1-080e-43d7-8158-2e3ac59e4800",
   "metadata": {},
   "outputs": [
    {
     "data": {
      "text/plain": [
       "0.9927724202385314"
      ]
     },
     "execution_count": 43,
     "metadata": {},
     "output_type": "execute_result"
    }
   ],
   "source": [
    "r2_score(y_test,y_pred)"
   ]
  },
  {
   "cell_type": "code",
   "execution_count": 45,
   "id": "536778a1-65a1-4c12-9eb4-106d2a73cb8d",
   "metadata": {},
   "outputs": [
    {
     "data": {
      "text/plain": [
       "1.1796862114712636"
      ]
     },
     "execution_count": 45,
     "metadata": {},
     "output_type": "execute_result"
    }
   ],
   "source": [
    "mean_absolute_error(y_test,y_pred)"
   ]
  },
  {
   "cell_type": "code",
   "execution_count": 46,
   "id": "873442d8-06c9-4cfd-ac56-63d89cb54b17",
   "metadata": {},
   "outputs": [
    {
     "data": {
      "text/plain": [
       "3.501215441000571"
      ]
     },
     "execution_count": 46,
     "metadata": {},
     "output_type": "execute_result"
    }
   ],
   "source": [
    "mean_squared_error(y_test,y_pred)"
   ]
  },
  {
   "cell_type": "code",
   "execution_count": null,
   "id": "56165151-11e0-4c3b-8269-d99c6b363f17",
   "metadata": {},
   "outputs": [],
   "source": []
  }
 ],
 "metadata": {
  "kernelspec": {
   "display_name": "Python 3 (ipykernel)",
   "language": "python",
   "name": "python3"
  },
  "language_info": {
   "codemirror_mode": {
    "name": "ipython",
    "version": 3
   },
   "file_extension": ".py",
   "mimetype": "text/x-python",
   "name": "python",
   "nbconvert_exporter": "python",
   "pygments_lexer": "ipython3",
   "version": "3.12.1"
  }
 },
 "nbformat": 4,
 "nbformat_minor": 5
}
